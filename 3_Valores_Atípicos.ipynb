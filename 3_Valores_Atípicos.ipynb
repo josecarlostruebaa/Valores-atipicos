{
  "nbformat": 4,
  "nbformat_minor": 0,
  "metadata": {
    "colab": {
      "provenance": [],
      "include_colab_link": true
    },
    "kernelspec": {
      "name": "python3",
      "display_name": "Python 3"
    },
    "language_info": {
      "name": "python"
    }
  },
  "cells": [
    {
      "cell_type": "markdown",
      "metadata": {
        "id": "view-in-github",
        "colab_type": "text"
      },
      "source": [
        "<a href=\"https://colab.research.google.com/github/josecarlostruebaa/Valores-atipicos/blob/main/3_Valores_At%C3%ADpicos.ipynb\" target=\"_parent\"><img src=\"https://colab.research.google.com/assets/colab-badge.svg\" alt=\"Open In Colab\"/></a>"
      ]
    },
    {
      "cell_type": "code",
      "execution_count": 1,
      "metadata": {
        "id": "zR1o6gNcDeiP"
      },
      "outputs": [],
      "source": [
        "#Importamos las librerias pandas, numpy y matplotlib respectivamente\n",
        "import pandas as pd\n",
        "import numpy as np\n",
        "import matplotlib.pyplot as plt"
      ]
    },
    {
      "cell_type": "code",
      "source": [
        "#Cargar archivo csv desde equipo\n",
        "from google.colab import files\n",
        "files.upload()"
      ],
      "metadata": {
        "id": "PkUoYdIAZ7cQ"
      },
      "execution_count": null,
      "outputs": []
    },
    {
      "cell_type": "code",
      "source": [
        "#Carga desde un archivo .csv sin indice\n",
        "data= pd.read_csv('Ventas_totales.csv')\n",
        "data"
      ],
      "metadata": {
        "id": "Kt10kCouauTV"
      },
      "execution_count": null,
      "outputs": []
    },
    {
      "cell_type": "code",
      "source": [
        "#Corroboramos valores nulos\n",
        "valores_nulos=data.isnull().sum()\n",
        "valores_nulos"
      ],
      "metadata": {
        "id": "1RRzHlrAb4jF"
      },
      "execution_count": null,
      "outputs": []
    },
    {
      "cell_type": "markdown",
      "source": [
        "**PROCEDIMIENTO PARA SEPARAR DATAFRAME EN 2 PARTES (CUANTITATIVAS Y CUALITATIVAS)**"
      ],
      "metadata": {
        "id": "J7vJjJRIcEdX"
      }
    },
    {
      "cell_type": "code",
      "source": [
        "#Verificamos información del DataFrame\n",
        "data.info()"
      ],
      "metadata": {
        "id": "_j5RTlCxcWoF"
      },
      "execution_count": null,
      "outputs": []
    },
    {
      "cell_type": "code",
      "source": [
        "#Filtro para obtener variables cuantitativas\n",
        "Cuantitativas=data.iloc[ : , [1,2,3,4,5,6,7,8,9,10,11,12,13,14,15,16,17,18,19,20,21,22,23]]\n",
        "Cuantitativas"
      ],
      "metadata": {
        "id": "uba3sAuVcrgk"
      },
      "execution_count": null,
      "outputs": []
    },
    {
      "cell_type": "code",
      "source": [
        "#Filtro para obtener variables cualitativas\n",
        "Cualitativas=data.iloc[ : , [0]]\n",
        "Cualitativas"
      ],
      "metadata": {
        "id": "IxKX8Xyadqy_"
      },
      "execution_count": null,
      "outputs": []
    },
    {
      "cell_type": "code",
      "source": [
        "#Realizamos diagrama de caja o bigote de cada columna del dataframe\n",
        "fig = plt.figure(figsize =(15, 8))\n",
        "Cuantitativas.plot(kind='box', vert=True)\n",
        "plt.title(\"Valores Atípicos del Dataframe\")\n",
        "plt.show() #dibujamos el diagrama"
      ],
      "metadata": {
        "id": "ZT6koYV0d9UJ"
      },
      "execution_count": null,
      "outputs": []
    },
    {
      "cell_type": "markdown",
      "source": [
        "**PROCEDIMIENTO \"DESVIACIÓN ESTÁNDAR\" PARA ELIMINAR OUTLIERS EN DATAFRAME**"
      ],
      "metadata": {
        "id": "lZd9DrV8fKQJ"
      }
    },
    {
      "cell_type": "code",
      "source": [
        "#Método aplicando desviación estandar. Encuentro los valores extremos\n",
        "y=Cuantitativas\n",
        "Limite_Superior= y.mean() + 3*y.std()\n",
        "Limite_Inferior= y.mean() - 3*y.std()\n",
        "print(\"Limite superior permitido\", Limite_Superior)\n",
        "print(\"Limite inferior permitido\", Limite_Inferior)"
      ],
      "metadata": {
        "id": "sc_gCJVbfcXa"
      },
      "execution_count": null,
      "outputs": []
    },
    {
      "cell_type": "code",
      "source": [
        "# Ajustar maximo de filas\n",
        "pd.options.display.max_rows = None"
      ],
      "metadata": {
        "id": "VGeavwcXhnMv"
      },
      "execution_count": 10,
      "outputs": []
    },
    {
      "cell_type": "code",
      "source": [
        "#Obtenemos datos y los outliers se convierten en nulos en el DataFrame\n",
        "Datos_sin_Outliers= Cuantitativas[(y<=Limite_Superior)&(y>=Limite_Inferior)]\n",
        "Datos_sin_Outliers"
      ],
      "metadata": {
        "id": "UCb0RzKUhDTc"
      },
      "execution_count": null,
      "outputs": []
    },
    {
      "cell_type": "code",
      "source": [
        "#Corroboramos valores nulos\n",
        "valores_nulos=Datos_sin_Outliers.isnull().sum()\n",
        "valores_nulos"
      ],
      "metadata": {
        "id": "M1URJZU2iHyP"
      },
      "execution_count": null,
      "outputs": []
    },
    {
      "cell_type": "code",
      "source": [
        "#Reemplazamos valores atípicos (nulos) del dataframe con \"mean\"\n",
        "#Realizamos una copia del dataframe\n",
        "data_clean=Datos_sin_Outliers.copy()\n",
        "data_clean=data_clean.fillna(round(Datos_sin_Outliers.mean(),1))\n",
        "data_clean"
      ],
      "metadata": {
        "id": "xT7cap1xiUqX"
      },
      "execution_count": null,
      "outputs": []
    },
    {
      "cell_type": "code",
      "source": [
        "#Corroboramos valores nulos\n",
        "valores_nulos=data_clean.isnull().sum()\n",
        "valores_nulos"
      ],
      "metadata": {
        "id": "l_bu860FiYq0"
      },
      "execution_count": null,
      "outputs": []
    },
    {
      "cell_type": "markdown",
      "source": [
        "**PROCEDIMIENTO \"CUANTILES\" PARA SUSTITUIR OUTLIERS EN DATAFRAME**"
      ],
      "metadata": {
        "id": "kyFjMB-DjWqO"
      }
    },
    {
      "cell_type": "code",
      "source": [
        "#Método aplicando Cuartiles. Encuentro cuartiles 0.25 y 0.75\n",
        "y=Cuantitativas\n",
        "\n",
        "percentile25=y.quantile(0.25) #Q1\n",
        "percentile75=y.quantile(0.75) #Q3\n",
        "iqr= percentile75 - percentile25\n",
        "\n",
        "Limite_Superior_iqr= percentile75 + 1.5*iqr\n",
        "Limite_Inferior_iqr= percentile25 - 1.5*iqr\n",
        "print(\"Limite superior permitido\", Limite_Superior_iqr)\n",
        "print(\"Limite inferior permitido\", Limite_Inferior_iqr)"
      ],
      "metadata": {
        "id": "qzn69Xc2kGqG"
      },
      "execution_count": null,
      "outputs": []
    },
    {
      "cell_type": "code",
      "source": [
        "#Obtenemos datos limpios del Dataframe\n",
        "Datos_sin_Outliers_iqr= Cuantitativas[(y<=Limite_Superior_iqr)&(y>=Limite_Inferior_iqr)]\n",
        "Datos_sin_Outliers_iqr"
      ],
      "metadata": {
        "id": "j7x4bGkbkjnN"
      },
      "execution_count": null,
      "outputs": []
    },
    {
      "cell_type": "code",
      "source": [
        "#Corroboramos valores nulos\n",
        "valores_nulos=Datos_sin_Outliers_iqr.isnull().sum()\n",
        "valores_nulos"
      ],
      "metadata": {
        "id": "2BuMzvV2kn6p"
      },
      "execution_count": null,
      "outputs": []
    },
    {
      "cell_type": "code",
      "source": [
        "#Reemplazamos valores atípicos (nulos) del dataframe con \"mean\"\n",
        "#Realizamos una copia del dataframe\n",
        "data_clean_iqr=Datos_sin_Outliers_iqr.copy()\n",
        "data_clean_iqr=data_clean_iqr.fillna(round(Datos_sin_Outliers_iqr.mean(),1))\n",
        "data_clean_iqr"
      ],
      "metadata": {
        "id": "QmTZ2CEmk5Jk"
      },
      "execution_count": null,
      "outputs": []
    },
    {
      "cell_type": "code",
      "source": [
        "#Corroboramos valores nulos\n",
        "valores_nulos=data_clean_iqr.isnull().sum()\n",
        "valores_nulos"
      ],
      "metadata": {
        "id": "gT5XwHwjlAzZ"
      },
      "execution_count": null,
      "outputs": []
    },
    {
      "cell_type": "markdown",
      "source": [
        "**UNIÓN DE DATAFRAME CUANTITATIVO CON DATAFRAME CUALITATIVO**"
      ],
      "metadata": {
        "id": "zchO6t7ClID4"
      }
    },
    {
      "cell_type": "code",
      "source": [
        "Dataframe_final = pd.concat([Cualitativas, data_clean_iqr], axis=1)\n",
        "Dataframe_final"
      ],
      "metadata": {
        "id": "4K8WZ9XOlMNh"
      },
      "execution_count": null,
      "outputs": []
    },
    {
      "cell_type": "markdown",
      "source": [
        "**DESCARGA DE DATAFRAME PROCESADO**"
      ],
      "metadata": {
        "id": "ZeJ1XHkJlZ9T"
      }
    },
    {
      "cell_type": "code",
      "source": [
        "#Convertir DataFrame a CSV\n",
        "Dataframe_final.to_csv(\"Dataframe_procesado.csv\")"
      ],
      "metadata": {
        "id": "_0HtKPJQlcs2"
      },
      "execution_count": 21,
      "outputs": []
    },
    {
      "cell_type": "code",
      "source": [
        "#descargar archivo filtrado en csv\n",
        "from google.colab import files\n",
        "\n",
        "\n",
        "files.download(\"Dataframe_procesado.csv\")"
      ],
      "metadata": {
        "colab": {
          "base_uri": "https://localhost:8080/",
          "height": 17
        },
        "id": "ki6R6G3TlelK",
        "outputId": "a5b8b112-64ba-49b5-ed13-f4e151f82182"
      },
      "execution_count": 22,
      "outputs": [
        {
          "output_type": "display_data",
          "data": {
            "text/plain": [
              "<IPython.core.display.Javascript object>"
            ],
            "application/javascript": [
              "\n",
              "    async function download(id, filename, size) {\n",
              "      if (!google.colab.kernel.accessAllowed) {\n",
              "        return;\n",
              "      }\n",
              "      const div = document.createElement('div');\n",
              "      const label = document.createElement('label');\n",
              "      label.textContent = `Downloading \"${filename}\": `;\n",
              "      div.appendChild(label);\n",
              "      const progress = document.createElement('progress');\n",
              "      progress.max = size;\n",
              "      div.appendChild(progress);\n",
              "      document.body.appendChild(div);\n",
              "\n",
              "      const buffers = [];\n",
              "      let downloaded = 0;\n",
              "\n",
              "      const channel = await google.colab.kernel.comms.open(id);\n",
              "      // Send a message to notify the kernel that we're ready.\n",
              "      channel.send({})\n",
              "\n",
              "      for await (const message of channel.messages) {\n",
              "        // Send a message to notify the kernel that we're ready.\n",
              "        channel.send({})\n",
              "        if (message.buffers) {\n",
              "          for (const buffer of message.buffers) {\n",
              "            buffers.push(buffer);\n",
              "            downloaded += buffer.byteLength;\n",
              "            progress.value = downloaded;\n",
              "          }\n",
              "        }\n",
              "      }\n",
              "      const blob = new Blob(buffers, {type: 'application/binary'});\n",
              "      const a = document.createElement('a');\n",
              "      a.href = window.URL.createObjectURL(blob);\n",
              "      a.download = filename;\n",
              "      div.appendChild(a);\n",
              "      a.click();\n",
              "      div.remove();\n",
              "    }\n",
              "  "
            ]
          },
          "metadata": {}
        },
        {
          "output_type": "display_data",
          "data": {
            "text/plain": [
              "<IPython.core.display.Javascript object>"
            ],
            "application/javascript": [
              "download(\"download_2b05352e-7426-4e6b-b29a-7920392eb46e\", \"Dataframe_procesado.csv\", 18549)"
            ]
          },
          "metadata": {}
        }
      ]
    }
  ]
}